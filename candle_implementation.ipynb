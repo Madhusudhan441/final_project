{
 "cells": [
  {
   "cell_type": "code",
   "execution_count": null,
   "metadata": {},
   "outputs": [],
   "source": [
    "import requests\n",
    "import pandas as pd\n",
    "import arrow\n",
    "import datetime\n",
    "from datetime import timezone\n",
    "import os\n",
    "import quandl\n",
    "import numpy as np\n",
    "from mpl_finance import candlestick_ohlc\n",
    "import matplotlib.pyplot as plt\n",
    "from matplotlib.pyplot import figure"
   ]
  },
  {
   "cell_type": "code",
   "execution_count": null,
   "metadata": {},
   "outputs": [],
   "source": [
    "def get_quote_data(symbol='AAPL', data_range='2y', data_interval='1h'):\n",
    "    res = requests.get('https://query1.finance.yahoo.com/v8/finance/chart/{symbol}?range={data_range}&interval={data_interval}'.format(**locals()))\n",
    "    data = res.json()\n",
    "    body = data['chart']['result'][0]    \n",
    "    dt = datetime.datetime\n",
    "\n",
    "    dt = pd.Series(map(lambda x: arrow.get(x).datetime.replace(tzinfo=None), body['timestamp']), name='Datetime')\n",
    "    df = pd.DataFrame(body['indicators']['quote'][0], index=dt)\n",
    "    dg = pd.DataFrame(body['timestamp'])    \n",
    "    df = df.loc[:, ('open', 'high', 'low', 'close', 'volume')]\n",
    "    df.dropna(inplace=True)     #removing NaN rows\n",
    "    df.columns = ['OPEN', 'HIGH','LOW','CLOSE','VOLUME']    #Renaming columns in pandas\n",
    "\n",
    "    return df"
   ]
  },
  {
   "cell_type": "code",
   "execution_count": null,
   "metadata": {},
   "outputs": [],
   "source": [
    "final_df = get_quote_data()\n",
    "final_df['Ticker'] = 'AAPL'\n",
    "list_of_tickers = ['GOOGL','MSFT','AMZN','FB','BABA','JNJ','JPM','BAC','WMT']\n",
    "for ticker in list_of_tickers:\n",
    "    stock_df = get_quote_data(symbol=ticker)\n",
    "    stock_df['Ticker'] = ticker\n",
    "    final_df = pd.concat([final_df,stock_df])\n",
    "final_df.head()"
   ]
  },
  {
   "cell_type": "code",
   "execution_count": null,
   "metadata": {},
   "outputs": [],
   "source": [
    "final_df.head(10)"
   ]
  },
  {
   "cell_type": "code",
   "execution_count": null,
   "metadata": {
    "scrolled": true
   },
   "outputs": [],
   "source": [
    "from pylab import rcParams\n",
    "rcParams['figure.figsize'] = 5, 5\n",
    "r = final_df\n",
    "date_list = np.array(r.index.to_pydatetime())\n",
    "# print(date_list)\n",
    "plot_array = np.zeros([len(r), 5])\n",
    "plot_array[:, 0] = np.arange(plot_array.shape[0])\n",
    "plot_array[:, 1:] = r.iloc[:, :4]\n",
    "\n",
    "# print(plot_array[init:init+7])\n",
    "# print(len(plot_array))\n",
    "init = 0\n",
    "while(init<(len(plot_array)-7)):\n",
    "# while(init<(15)):\n",
    "    fig, ax = plt.subplots(nrows=1, ncols=1)\n",
    "    num_of_bars = 7  # the number o\n",
    "    open_list = plot_array[init:init+7][:,1]\n",
    "    close_list = plot_array[init:init+7][:,4]\n",
    "    ax.margins(x=0.0, y=0.1)\n",
    "    ax.yaxis.tick_right()\n",
    "    x_tick_labels = []\n",
    "#     print(plot_array[6, 0])\n",
    "    ax.set_xlim(right=plot_array[6, 0])\n",
    "    ax.grid(True, color='k', ls='--', alpha=0.2)\n",
    "#     print(\"hiii\",plot_array[init,0],plot_array[init+7, 0])\n",
    "    indices = np.linspace(plot_array[0,0], plot_array[6, 0], 7, dtype=int)\n",
    "    x_tick_labels = ['14:30', '15:30', '16:30', '17:30', '18:30', '19:30', '20:30']\n",
    "    ax.set(xticks = indices,xticklabels=x_tick_labels)\n",
    "#     print(x_tick_labels,lst1)\n",
    "    ax.plot(x_tick_labels,open_list)\n",
    "    ax.plot(x_tick_labels,close_list)\n",
    "    plot_array[init:init+7][:,0] = [0., 1., 2., 3., 4., 5., 6.]\n",
    "    candlestick_ohlc(ax, plot_array[init:init+7], colorup='g', colordown='r')\n",
    "    plt.show()\n",
    "    fig.savefig('new_images_2/'+str(init)+'.png',dpi=20)\n",
    "    init+=7\n"
   ]
  },
  {
   "cell_type": "code",
   "execution_count": null,
   "metadata": {},
   "outputs": [],
   "source": []
  }
 ],
 "metadata": {
  "kernelspec": {
   "display_name": "Python 3",
   "language": "python",
   "name": "python3"
  },
  "language_info": {
   "codemirror_mode": {
    "name": "ipython",
    "version": 3
   },
   "file_extension": ".py",
   "mimetype": "text/x-python",
   "name": "python",
   "nbconvert_exporter": "python",
   "pygments_lexer": "ipython3",
   "version": "3.6.8"
  }
 },
 "nbformat": 4,
 "nbformat_minor": 2
}
