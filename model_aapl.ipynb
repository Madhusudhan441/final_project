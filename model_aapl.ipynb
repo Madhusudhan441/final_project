{
 "cells": [
  {
   "cell_type": "code",
   "execution_count": 1,
   "metadata": {},
   "outputs": [
    {
     "name": "stderr",
     "output_type": "stream",
     "text": [
      "Using TensorFlow backend.\n"
     ]
    }
   ],
   "source": [
    "import numpy as np\n",
    "\n",
    "from keras.models import Sequential  \n",
    "from keras.layers import Dense, Dropout, Activation, Flatten  \n",
    "from keras.layers import Convolution2D, MaxPooling2D,BatchNormalization\n",
    "from keras.optimizers import SGD\n",
    "from keras.utils import np_utils\n",
    "from scipy import misc\n",
    "import glob\n",
    "import matplotlib.pyplot as plt\n",
    "from PIL import Image\n",
    "import math\n",
    "from skimage.color import rgb2gray"
   ]
  },
  {
   "cell_type": "code",
   "execution_count": 2,
   "metadata": {},
   "outputs": [
    {
     "name": "stdout",
     "output_type": "stream",
     "text": [
      "498\n"
     ]
    },
    {
     "name": "stderr",
     "output_type": "stream",
     "text": [
      "C:\\Users\\smadh\\Anaconda3\\envs\\keras-gpu\\lib\\site-packages\\ipykernel_launcher.py:6: DeprecationWarning: `imread` is deprecated!\n",
      "`imread` is deprecated in SciPy 1.0.0, and will be removed in 1.2.0.\n",
      "Use ``imageio.imread`` instead.\n",
      "  \n"
     ]
    }
   ],
   "source": [
    "def get_pixel_values():\n",
    "#     file_name = r''\n",
    "    pixels = []\n",
    "    cnt = 0\n",
    "    for filename in glob.glob('aapl/'+'\\*.png'):\n",
    "        im = misc.imread(filename)\n",
    "        pixels.append(im)\n",
    "        cnt+=1\n",
    "    print(cnt)\n",
    "    return pixels\n",
    "def convert_image():\n",
    "#     file_name = r'\\figures_v2'\n",
    "    for filename in glob.glob('aapl/' + '\\*.png'):\n",
    "        img = Image.open(filename)\n",
    "#         img = rgb2gray(img);\n",
    "        img = img.convert('RGB')\n",
    "        img.save(filename)\n",
    "convert_image()\n",
    "pixel_values = np.asarray(get_pixel_values())"
   ]
  },
  {
   "cell_type": "code",
   "execution_count": null,
   "metadata": {},
   "outputs": [],
   "source": []
  },
  {
   "cell_type": "code",
   "execution_count": 3,
   "metadata": {},
   "outputs": [
    {
     "data": {
      "text/plain": [
       "(498, 100, 100, 3)"
      ]
     },
     "execution_count": 3,
     "metadata": {},
     "output_type": "execute_result"
    }
   ],
   "source": [
    "pixel_values.shape"
   ]
  },
  {
   "cell_type": "code",
   "execution_count": 38,
   "metadata": {},
   "outputs": [],
   "source": [
    "import requests\n",
    "import pandas as pd\n",
    "import arrow\n",
    "import datetime\n",
    "from datetime import timezone\n",
    "import os\n",
    "import quandl\n",
    "import numpy as np\n",
    "from mpl_finance import candlestick_ohlc\n",
    "import matplotlib.pyplot as plt\n",
    "from matplotlib.pyplot import figure\n",
    "\n",
    "def get_quote_data(symbol='AAPL', data_range='2y', data_interval='1h'):\n",
    "    res = requests.get('https://query1.finance.yahoo.com/v8/finance/chart/{symbol}?range={data_range}&interval={data_interval}'.format(**locals()))\n",
    "    data = res.json()\n",
    "    body = data['chart']['result'][0]    \n",
    "    dt = datetime.datetime\n",
    "\n",
    "    dt = pd.Series(map(lambda x: arrow.get(x).datetime.replace(tzinfo=None), body['timestamp']), name='Datetime')\n",
    "    df = pd.DataFrame(body['indicators']['quote'][0], index=dt)\n",
    "    dg = pd.DataFrame(body['timestamp'])    \n",
    "    df = df.loc[:, ('open', 'high', 'low', 'close', 'volume')]\n",
    "    df.dropna(inplace=True)     #removing NaN rows\n",
    "    df.columns = ['OPEN', 'HIGH','LOW','CLOSE','VOLUME']    #Renaming columns in pandas\n",
    "\n",
    "    return df"
   ]
  },
  {
   "cell_type": "code",
   "execution_count": 39,
   "metadata": {},
   "outputs": [
    {
     "data": {
      "text/html": [
       "<div>\n",
       "<style scoped>\n",
       "    .dataframe tbody tr th:only-of-type {\n",
       "        vertical-align: middle;\n",
       "    }\n",
       "\n",
       "    .dataframe tbody tr th {\n",
       "        vertical-align: top;\n",
       "    }\n",
       "\n",
       "    .dataframe thead th {\n",
       "        text-align: right;\n",
       "    }\n",
       "</style>\n",
       "<table border=\"1\" class=\"dataframe\">\n",
       "  <thead>\n",
       "    <tr style=\"text-align: right;\">\n",
       "      <th></th>\n",
       "      <th>OPEN</th>\n",
       "      <th>HIGH</th>\n",
       "      <th>LOW</th>\n",
       "      <th>CLOSE</th>\n",
       "      <th>VOLUME</th>\n",
       "      <th>Ticker</th>\n",
       "    </tr>\n",
       "    <tr>\n",
       "      <th>Datetime</th>\n",
       "      <th></th>\n",
       "      <th></th>\n",
       "      <th></th>\n",
       "      <th></th>\n",
       "      <th></th>\n",
       "      <th></th>\n",
       "    </tr>\n",
       "  </thead>\n",
       "  <tbody>\n",
       "    <tr>\n",
       "      <th>2017-12-11 14:30:00</th>\n",
       "      <td>1164.310059</td>\n",
       "      <td>1169.719971</td>\n",
       "      <td>1162.979980</td>\n",
       "      <td>1165.589966</td>\n",
       "      <td>628375.0</td>\n",
       "      <td>AMZN</td>\n",
       "    </tr>\n",
       "    <tr>\n",
       "      <th>2017-12-11 15:30:00</th>\n",
       "      <td>1165.459961</td>\n",
       "      <td>1166.869995</td>\n",
       "      <td>1157.199951</td>\n",
       "      <td>1162.399902</td>\n",
       "      <td>367769.0</td>\n",
       "      <td>AMZN</td>\n",
       "    </tr>\n",
       "    <tr>\n",
       "      <th>2017-12-11 16:30:00</th>\n",
       "      <td>1162.010010</td>\n",
       "      <td>1166.359985</td>\n",
       "      <td>1161.550049</td>\n",
       "      <td>1165.310059</td>\n",
       "      <td>220343.0</td>\n",
       "      <td>AMZN</td>\n",
       "    </tr>\n",
       "    <tr>\n",
       "      <th>2017-12-11 17:30:00</th>\n",
       "      <td>1165.640015</td>\n",
       "      <td>1168.880005</td>\n",
       "      <td>1165.395874</td>\n",
       "      <td>1167.069946</td>\n",
       "      <td>209041.0</td>\n",
       "      <td>AMZN</td>\n",
       "    </tr>\n",
       "    <tr>\n",
       "      <th>2017-12-11 18:30:00</th>\n",
       "      <td>1167.260010</td>\n",
       "      <td>1168.598022</td>\n",
       "      <td>1166.232056</td>\n",
       "      <td>1166.869995</td>\n",
       "      <td>172242.0</td>\n",
       "      <td>AMZN</td>\n",
       "    </tr>\n",
       "  </tbody>\n",
       "</table>\n",
       "</div>"
      ],
      "text/plain": [
       "                            OPEN         HIGH          LOW        CLOSE  \\\n",
       "Datetime                                                                  \n",
       "2017-12-11 14:30:00  1164.310059  1169.719971  1162.979980  1165.589966   \n",
       "2017-12-11 15:30:00  1165.459961  1166.869995  1157.199951  1162.399902   \n",
       "2017-12-11 16:30:00  1162.010010  1166.359985  1161.550049  1165.310059   \n",
       "2017-12-11 17:30:00  1165.640015  1168.880005  1165.395874  1167.069946   \n",
       "2017-12-11 18:30:00  1167.260010  1168.598022  1166.232056  1166.869995   \n",
       "\n",
       "                       VOLUME Ticker  \n",
       "Datetime                              \n",
       "2017-12-11 14:30:00  628375.0   AMZN  \n",
       "2017-12-11 15:30:00  367769.0   AMZN  \n",
       "2017-12-11 16:30:00  220343.0   AMZN  \n",
       "2017-12-11 17:30:00  209041.0   AMZN  \n",
       "2017-12-11 18:30:00  172242.0   AMZN  "
      ]
     },
     "execution_count": 39,
     "metadata": {},
     "output_type": "execute_result"
    }
   ],
   "source": [
    "final_df = get_quote_data('AMZN')\n",
    "final_df['Ticker'] = 'AMZN'\n",
    "# list_of_tickers = ['GOOGL','MSFT','AMZN','FB','BABA','JNJ','JPM','BAC','WMT']\n",
    "# for ticker in list_of_tickers:\n",
    "#     stock_df = get_quote_data(symbol=ticker)\n",
    "#     stock_df['Ticker'] = ticker\n",
    "#     final_df = pd.concat([final_df,stock_df])\n",
    "final_df.head()"
   ]
  },
  {
   "cell_type": "code",
   "execution_count": 7,
   "metadata": {},
   "outputs": [
    {
     "data": {
      "text/plain": [
       "(3492, 6)"
      ]
     },
     "execution_count": 7,
     "metadata": {},
     "output_type": "execute_result"
    }
   ],
   "source": [
    "final_df.shape"
   ]
  },
  {
   "cell_type": "code",
   "execution_count": 8,
   "metadata": {},
   "outputs": [],
   "source": [
    "import math\n",
    "count = 0\n",
    "y_10_days_prediction = []\n",
    "pixel_index = 0\n",
    "returns = []\n",
    "pred = []\n",
    "\n",
    "try:\n",
    "    for index, row in final_df.iterrows():\n",
    "        if((count-1)%7==0):\n",
    "\n",
    "            row1 = final_df.iloc[[count+10]]\n",
    "    #         print(\"hey\",np.array(row1['OPEN'])[0]/np.array(row['OPEN']))\n",
    "#             y_10_days_prediction.append(np.array(row1[\"OPEN\"])[0])\n",
    "\n",
    "            y_10_days_prediction.append((np.array(row1[\"OPEN\"])[0])/(np.array(row['OPEN'])))\n",
    "            returns.append(row['OPEN'])\n",
    "            pred.append(np.array(row1[\"OPEN\"])[0])\n",
    "        count+=1\n",
    "except:\n",
    "    pass\n"
   ]
  },
  {
   "cell_type": "code",
   "execution_count": 10,
   "metadata": {},
   "outputs": [
    {
     "data": {
      "text/plain": [
       "498"
      ]
     },
     "execution_count": 10,
     "metadata": {},
     "output_type": "execute_result"
    }
   ],
   "source": [
    "len(pred)"
   ]
  },
  {
   "cell_type": "code",
   "execution_count": 11,
   "metadata": {},
   "outputs": [
    {
     "name": "stdout",
     "output_type": "stream",
     "text": [
      "498\n",
      "498\n"
     ]
    }
   ],
   "source": [
    "pixel_values = pixel_values[0:len(y_10_days_prediction)]\n",
    "print(len(pixel_values))\n",
    "print(len(y_10_days_prediction))"
   ]
  },
  {
   "cell_type": "code",
   "execution_count": 12,
   "metadata": {},
   "outputs": [],
   "source": [
    "size = 400\n",
    "x_train = pixel_values[0:size]\n",
    "y_train = np.asarray(y_10_days_prediction[0:size])\n",
    "y_train_out = np.asarray(returns[0:size])\n",
    "y_train_pred = np.asarray(pred[0:size])\n",
    "x_test = pixel_values[size:]\n",
    "y_test = np.asarray(y_10_days_prediction[size:])\n",
    "y_test_out = np.asarray(returns[size:])\n",
    "y_test_pred = np.asarray(pred[size:])\n",
    "#    y_true = y_test\n",
    "#    y_train = np_utils.to_categorical(y_train, 2)\n",
    "#    y_test = np_utils.to_categorical(y_test, 2)\n",
    "x_train = x_train.astype('float32')\n",
    "x_test = x_test.astype('float32')\n",
    "x_train /= 255.0\n",
    "x_test /= 255.0"
   ]
  },
  {
   "cell_type": "code",
   "execution_count": 13,
   "metadata": {},
   "outputs": [
    {
     "name": "stdout",
     "output_type": "stream",
     "text": [
      "(400, 100, 100, 3) (400,) (98, 100, 100, 3) (98,)\n"
     ]
    }
   ],
   "source": [
    "print(x_train.shape,y_train.shape,x_test.shape,y_test.shape)"
   ]
  },
  {
   "cell_type": "code",
   "execution_count": 14,
   "metadata": {},
   "outputs": [
    {
     "data": {
      "text/plain": [
       "498"
      ]
     },
     "execution_count": 14,
     "metadata": {},
     "output_type": "execute_result"
    }
   ],
   "source": [
    "len(returns)"
   ]
  },
  {
   "cell_type": "code",
   "execution_count": 15,
   "metadata": {},
   "outputs": [],
   "source": [
    "def create_model():\n",
    "    model = Sequential()\n",
    "\n",
    "    model.add(Convolution2D(32, 3, 3,\n",
    "                            border_mode='valid', \n",
    "                            input_shape=(100, 100, 3)))\n",
    "    model.add(BatchNormalization())\n",
    "    model.add(Activation('relu'))  \n",
    "\n",
    "    model.add(Convolution2D(32, 3, 3)) \n",
    "    model.add(BatchNormalization())\n",
    "    model.add(Activation('relu')) \n",
    "    model.add(Convolution2D(32, 3, 3)) \n",
    "    model.add(BatchNormalization())\n",
    "    model.add(Activation('relu')) \n",
    "    model.add(MaxPooling2D(pool_size=(2, 2),strides=(2,2)))  \n",
    "#     model.add(Dropout(0.25))  \n",
    "    \n",
    "    \n",
    "    model.add(Convolution2D(64, 3, 3)) \n",
    "    model.add(BatchNormalization())\n",
    "    model.add(Activation('relu')) \n",
    "    model.add(Convolution2D(64, 3, 3)) \n",
    "    model.add(BatchNormalization())\n",
    "    model.add(Activation('relu')) \n",
    "    model.add(Convolution2D(64, 3, 3)) \n",
    "    model.add(BatchNormalization())\n",
    "    model.add(Activation('relu')) \n",
    "    model.add(MaxPooling2D(pool_size=(2, 2),strides=(2,2)))  \n",
    "#     model.add(Dropout(0.25))  \n",
    "      \n",
    "    \n",
    "    model.add(Convolution2D(128, 3, 3)) \n",
    "    model.add(BatchNormalization())\n",
    "    model.add(Activation('relu')) \n",
    "    model.add(Convolution2D(128, 3, 3)) \n",
    "    model.add(BatchNormalization())\n",
    "    model.add(Activation('relu')) \n",
    "    model.add(Convolution2D(128, 3, 3)) \n",
    "    model.add(BatchNormalization())\n",
    "    model.add(Activation('relu')) \n",
    "    model.add(MaxPooling2D(pool_size=(2, 2),strides=(2,2)))     \n",
    "    \n",
    "#     model.add(Dropout(0.2)) \n",
    "    model.add(Convolution2D(128,1, 1)) \n",
    "    model.add(BatchNormalization())\n",
    "    model.add(Activation('relu'))  \n",
    "\n",
    "\n",
    "#     model.add(Dropout(0.2)) \n",
    "    model.add(Convolution2D(32,1, 1)) \n",
    "    model.add(BatchNormalization())\n",
    "    model.add(Activation('relu'))  \n",
    "    model.add(Flatten())\n",
    "    model.add(Dense(512))  \n",
    "    model.add(Activation(\"relu\"))\n",
    "    model.add(Dense(256))  \n",
    "    model.add(Activation(\"relu\"))\n",
    "    model.add(Dense(64))  \n",
    "    model.add(Activation(\"relu\"))\n",
    "    model.add(Dense(1))  \n",
    "\n",
    "    \n",
    "    \n",
    "#     model.add(Convolution2D(64, 3, 3, \n",
    "#                             border_mode='valid'))  \n",
    "#     model.add(Activation('relu'))  \n",
    "#     model.add(Convolution2D(64, 3, 3))  \n",
    "#     model.add(Activation('relu'))  \n",
    "#     model.add(MaxPooling2D(pool_size=(2, 2)))  \n",
    "#     model.add(Dropout(0.25))  \n",
    "      \n",
    "#     model.add(Flatten())  \n",
    "#     model.add(Dense(256))  \n",
    "#     model.add(Activation('relu'))  \n",
    "#     model.add(Dropout(0.5))\n",
    "\n",
    "#     model.add(Dense(1))  \n",
    "#     model.add(Activation('linear'))  \n",
    "\n",
    "    return model\n",
    "def compile_model(model):\n",
    "    lrate = 0.01\n",
    "    sgd = SGD(lr=lrate, momentum=0.9, decay=1e-6, nesterov=True)\n",
    "    model.compile(loss='mse', optimizer='sgd')\n",
    "    return model"
   ]
  },
  {
   "cell_type": "code",
   "execution_count": 16,
   "metadata": {},
   "outputs": [
    {
     "name": "stdout",
     "output_type": "stream",
     "text": [
      "(400, 100, 100, 3)\n"
     ]
    }
   ],
   "source": [
    "print(x_train.shape)"
   ]
  },
  {
   "cell_type": "code",
   "execution_count": 17,
   "metadata": {},
   "outputs": [
    {
     "name": "stdout",
     "output_type": "stream",
     "text": [
      "(400,)\n"
     ]
    }
   ],
   "source": [
    "print(y_train.shape)"
   ]
  },
  {
   "cell_type": "code",
   "execution_count": 18,
   "metadata": {},
   "outputs": [
    {
     "name": "stderr",
     "output_type": "stream",
     "text": [
      "WARNING: Logging before flag parsing goes to stderr.\n",
      "W1208 13:48:32.214009 17268 module_wrapper.py:139] From C:\\Users\\smadh\\Anaconda3\\envs\\keras-gpu\\lib\\site-packages\\keras\\backend\\tensorflow_backend.py:74: The name tf.get_default_graph is deprecated. Please use tf.compat.v1.get_default_graph instead.\n",
      "\n",
      "C:\\Users\\smadh\\Anaconda3\\envs\\keras-gpu\\lib\\site-packages\\ipykernel_launcher.py:6: UserWarning: Update your `Conv2D` call to the Keras 2 API: `Conv2D(32, (3, 3), input_shape=(100, 100,..., padding=\"valid\")`\n",
      "  \n",
      "W1208 13:48:32.215007 17268 module_wrapper.py:139] From C:\\Users\\smadh\\Anaconda3\\envs\\keras-gpu\\lib\\site-packages\\keras\\backend\\tensorflow_backend.py:517: The name tf.placeholder is deprecated. Please use tf.compat.v1.placeholder instead.\n",
      "\n",
      "W1208 13:48:32.217999 17268 module_wrapper.py:139] From C:\\Users\\smadh\\Anaconda3\\envs\\keras-gpu\\lib\\site-packages\\keras\\backend\\tensorflow_backend.py:4138: The name tf.random_uniform is deprecated. Please use tf.random.uniform instead.\n",
      "\n",
      "W1208 13:48:32.246921 17268 module_wrapper.py:139] From C:\\Users\\smadh\\Anaconda3\\envs\\keras-gpu\\lib\\site-packages\\keras\\backend\\tensorflow_backend.py:174: The name tf.get_default_session is deprecated. Please use tf.compat.v1.get_default_session instead.\n",
      "\n",
      "W1208 13:48:32.247919 17268 module_wrapper.py:139] From C:\\Users\\smadh\\Anaconda3\\envs\\keras-gpu\\lib\\site-packages\\keras\\backend\\tensorflow_backend.py:181: The name tf.ConfigProto is deprecated. Please use tf.compat.v1.ConfigProto instead.\n",
      "\n",
      "W1208 13:48:32.247919 17268 module_wrapper.py:139] From C:\\Users\\smadh\\Anaconda3\\envs\\keras-gpu\\lib\\site-packages\\keras\\backend\\tensorflow_backend.py:186: The name tf.Session is deprecated. Please use tf.compat.v1.Session instead.\n",
      "\n",
      "W1208 13:48:32.293796 17268 module_wrapper.py:139] From C:\\Users\\smadh\\Anaconda3\\envs\\keras-gpu\\lib\\site-packages\\keras\\backend\\tensorflow_backend.py:190: The name tf.global_variables is deprecated. Please use tf.compat.v1.global_variables instead.\n",
      "\n",
      "W1208 13:48:32.294794 17268 module_wrapper.py:139] From C:\\Users\\smadh\\Anaconda3\\envs\\keras-gpu\\lib\\site-packages\\keras\\backend\\tensorflow_backend.py:199: The name tf.is_variable_initialized is deprecated. Please use tf.compat.v1.is_variable_initialized instead.\n",
      "\n",
      "W1208 13:48:32.304767 17268 module_wrapper.py:139] From C:\\Users\\smadh\\Anaconda3\\envs\\keras-gpu\\lib\\site-packages\\keras\\backend\\tensorflow_backend.py:206: The name tf.variables_initializer is deprecated. Please use tf.compat.v1.variables_initializer instead.\n",
      "\n",
      "W1208 13:48:32.312745 17268 module_wrapper.py:139] From C:\\Users\\smadh\\Anaconda3\\envs\\keras-gpu\\lib\\site-packages\\keras\\backend\\tensorflow_backend.py:1834: The name tf.nn.fused_batch_norm is deprecated. Please use tf.compat.v1.nn.fused_batch_norm instead.\n",
      "\n",
      "W1208 13:48:32.361646 17268 module_wrapper.py:139] From C:\\Users\\smadh\\Anaconda3\\envs\\keras-gpu\\lib\\site-packages\\keras\\backend\\tensorflow_backend.py:133: The name tf.placeholder_with_default is deprecated. Please use tf.compat.v1.placeholder_with_default instead.\n",
      "\n",
      "C:\\Users\\smadh\\Anaconda3\\envs\\keras-gpu\\lib\\site-packages\\ipykernel_launcher.py:10: UserWarning: Update your `Conv2D` call to the Keras 2 API: `Conv2D(32, (3, 3))`\n",
      "  # Remove the CWD from sys.path while we load stuff.\n",
      "C:\\Users\\smadh\\Anaconda3\\envs\\keras-gpu\\lib\\site-packages\\ipykernel_launcher.py:13: UserWarning: Update your `Conv2D` call to the Keras 2 API: `Conv2D(32, (3, 3))`\n",
      "  del sys.path[0]\n",
      "W1208 13:48:32.615967 17268 module_wrapper.py:139] From C:\\Users\\smadh\\Anaconda3\\envs\\keras-gpu\\lib\\site-packages\\keras\\backend\\tensorflow_backend.py:3976: The name tf.nn.max_pool is deprecated. Please use tf.nn.max_pool2d instead.\n",
      "\n",
      "C:\\Users\\smadh\\Anaconda3\\envs\\keras-gpu\\lib\\site-packages\\ipykernel_launcher.py:20: UserWarning: Update your `Conv2D` call to the Keras 2 API: `Conv2D(64, (3, 3))`\n",
      "C:\\Users\\smadh\\Anaconda3\\envs\\keras-gpu\\lib\\site-packages\\ipykernel_launcher.py:23: UserWarning: Update your `Conv2D` call to the Keras 2 API: `Conv2D(64, (3, 3))`\n",
      "C:\\Users\\smadh\\Anaconda3\\envs\\keras-gpu\\lib\\site-packages\\ipykernel_launcher.py:26: UserWarning: Update your `Conv2D` call to the Keras 2 API: `Conv2D(64, (3, 3))`\n",
      "C:\\Users\\smadh\\Anaconda3\\envs\\keras-gpu\\lib\\site-packages\\ipykernel_launcher.py:33: UserWarning: Update your `Conv2D` call to the Keras 2 API: `Conv2D(128, (3, 3))`\n",
      "C:\\Users\\smadh\\Anaconda3\\envs\\keras-gpu\\lib\\site-packages\\ipykernel_launcher.py:36: UserWarning: Update your `Conv2D` call to the Keras 2 API: `Conv2D(128, (3, 3))`\n",
      "C:\\Users\\smadh\\Anaconda3\\envs\\keras-gpu\\lib\\site-packages\\ipykernel_launcher.py:39: UserWarning: Update your `Conv2D` call to the Keras 2 API: `Conv2D(128, (3, 3))`\n",
      "C:\\Users\\smadh\\Anaconda3\\envs\\keras-gpu\\lib\\site-packages\\ipykernel_launcher.py:45: UserWarning: Update your `Conv2D` call to the Keras 2 API: `Conv2D(128, (1, 1))`\n",
      "C:\\Users\\smadh\\Anaconda3\\envs\\keras-gpu\\lib\\site-packages\\ipykernel_launcher.py:51: UserWarning: Update your `Conv2D` call to the Keras 2 API: `Conv2D(32, (1, 1))`\n",
      "W1208 13:48:33.290164 17268 module_wrapper.py:139] From C:\\Users\\smadh\\Anaconda3\\envs\\keras-gpu\\lib\\site-packages\\keras\\optimizers.py:790: The name tf.train.Optimizer is deprecated. Please use tf.compat.v1.train.Optimizer instead.\n",
      "\n"
     ]
    }
   ],
   "source": [
    "model = create_model()\n",
    "model = compile_model(model)"
   ]
  },
  {
   "cell_type": "code",
   "execution_count": 19,
   "metadata": {},
   "outputs": [
    {
     "name": "stdout",
     "output_type": "stream",
     "text": [
      "_________________________________________________________________\n",
      "Layer (type)                 Output Shape              Param #   \n",
      "=================================================================\n",
      "conv2d_1 (Conv2D)            (None, 98, 98, 32)        896       \n",
      "_________________________________________________________________\n",
      "batch_normalization_1 (Batch (None, 98, 98, 32)        128       \n",
      "_________________________________________________________________\n",
      "activation_1 (Activation)    (None, 98, 98, 32)        0         \n",
      "_________________________________________________________________\n",
      "conv2d_2 (Conv2D)            (None, 96, 96, 32)        9248      \n",
      "_________________________________________________________________\n",
      "batch_normalization_2 (Batch (None, 96, 96, 32)        128       \n",
      "_________________________________________________________________\n",
      "activation_2 (Activation)    (None, 96, 96, 32)        0         \n",
      "_________________________________________________________________\n",
      "conv2d_3 (Conv2D)            (None, 94, 94, 32)        9248      \n",
      "_________________________________________________________________\n",
      "batch_normalization_3 (Batch (None, 94, 94, 32)        128       \n",
      "_________________________________________________________________\n",
      "activation_3 (Activation)    (None, 94, 94, 32)        0         \n",
      "_________________________________________________________________\n",
      "max_pooling2d_1 (MaxPooling2 (None, 47, 47, 32)        0         \n",
      "_________________________________________________________________\n",
      "conv2d_4 (Conv2D)            (None, 45, 45, 64)        18496     \n",
      "_________________________________________________________________\n",
      "batch_normalization_4 (Batch (None, 45, 45, 64)        256       \n",
      "_________________________________________________________________\n",
      "activation_4 (Activation)    (None, 45, 45, 64)        0         \n",
      "_________________________________________________________________\n",
      "conv2d_5 (Conv2D)            (None, 43, 43, 64)        36928     \n",
      "_________________________________________________________________\n",
      "batch_normalization_5 (Batch (None, 43, 43, 64)        256       \n",
      "_________________________________________________________________\n",
      "activation_5 (Activation)    (None, 43, 43, 64)        0         \n",
      "_________________________________________________________________\n",
      "conv2d_6 (Conv2D)            (None, 41, 41, 64)        36928     \n",
      "_________________________________________________________________\n",
      "batch_normalization_6 (Batch (None, 41, 41, 64)        256       \n",
      "_________________________________________________________________\n",
      "activation_6 (Activation)    (None, 41, 41, 64)        0         \n",
      "_________________________________________________________________\n",
      "max_pooling2d_2 (MaxPooling2 (None, 20, 20, 64)        0         \n",
      "_________________________________________________________________\n",
      "conv2d_7 (Conv2D)            (None, 18, 18, 128)       73856     \n",
      "_________________________________________________________________\n",
      "batch_normalization_7 (Batch (None, 18, 18, 128)       512       \n",
      "_________________________________________________________________\n",
      "activation_7 (Activation)    (None, 18, 18, 128)       0         \n",
      "_________________________________________________________________\n",
      "conv2d_8 (Conv2D)            (None, 16, 16, 128)       147584    \n",
      "_________________________________________________________________\n",
      "batch_normalization_8 (Batch (None, 16, 16, 128)       512       \n",
      "_________________________________________________________________\n",
      "activation_8 (Activation)    (None, 16, 16, 128)       0         \n",
      "_________________________________________________________________\n",
      "conv2d_9 (Conv2D)            (None, 14, 14, 128)       147584    \n",
      "_________________________________________________________________\n",
      "batch_normalization_9 (Batch (None, 14, 14, 128)       512       \n",
      "_________________________________________________________________\n",
      "activation_9 (Activation)    (None, 14, 14, 128)       0         \n",
      "_________________________________________________________________\n",
      "max_pooling2d_3 (MaxPooling2 (None, 7, 7, 128)         0         \n",
      "_________________________________________________________________\n",
      "conv2d_10 (Conv2D)           (None, 7, 7, 128)         16512     \n",
      "_________________________________________________________________\n",
      "batch_normalization_10 (Batc (None, 7, 7, 128)         512       \n",
      "_________________________________________________________________\n",
      "activation_10 (Activation)   (None, 7, 7, 128)         0         \n",
      "_________________________________________________________________\n",
      "conv2d_11 (Conv2D)           (None, 7, 7, 32)          4128      \n",
      "_________________________________________________________________\n",
      "batch_normalization_11 (Batc (None, 7, 7, 32)          128       \n",
      "_________________________________________________________________\n",
      "activation_11 (Activation)   (None, 7, 7, 32)          0         \n",
      "_________________________________________________________________\n",
      "flatten_1 (Flatten)          (None, 1568)              0         \n",
      "_________________________________________________________________\n",
      "dense_1 (Dense)              (None, 512)               803328    \n",
      "_________________________________________________________________\n",
      "activation_12 (Activation)   (None, 512)               0         \n",
      "_________________________________________________________________\n",
      "dense_2 (Dense)              (None, 256)               131328    \n",
      "_________________________________________________________________\n",
      "activation_13 (Activation)   (None, 256)               0         \n",
      "_________________________________________________________________\n",
      "dense_3 (Dense)              (None, 64)                16448     \n",
      "_________________________________________________________________\n",
      "activation_14 (Activation)   (None, 64)                0         \n",
      "_________________________________________________________________\n",
      "dense_4 (Dense)              (None, 1)                 65        \n",
      "=================================================================\n",
      "Total params: 1,455,905\n",
      "Trainable params: 1,454,241\n",
      "Non-trainable params: 1,664\n",
      "_________________________________________________________________\n"
     ]
    }
   ],
   "source": [
    "model.summary()"
   ]
  },
  {
   "cell_type": "code",
   "execution_count": 86,
   "metadata": {},
   "outputs": [],
   "source": [
    "def r_squared(y_true, y_hat):\n",
    "    ssr = 0\n",
    "    sst = 0\n",
    "    e = np.subtract(y_true, y_hat)\n",
    "    y_mean = np.mean(y_true)\n",
    "    for item in e:\n",
    "        ssr += item**2\n",
    "    for item in y_true:\n",
    "        sst += (item - y_mean)**2\n",
    "    r2 = 1 - ssr / sst\n",
    "    return r2"
   ]
  },
  {
   "cell_type": "code",
   "execution_count": 20,
   "metadata": {},
   "outputs": [
    {
     "name": "stderr",
     "output_type": "stream",
     "text": [
      "C:\\Users\\smadh\\Anaconda3\\envs\\keras-gpu\\lib\\site-packages\\ipykernel_launcher.py:5: UserWarning: The `nb_epoch` argument in `fit` has been renamed `epochs`.\n",
      "  \"\"\"\n",
      "W1208 13:48:41.671484 17268 module_wrapper.py:139] From C:\\Users\\smadh\\Anaconda3\\envs\\keras-gpu\\lib\\site-packages\\keras\\backend\\tensorflow_backend.py:986: The name tf.assign_add is deprecated. Please use tf.compat.v1.assign_add instead.\n",
      "\n",
      "W1208 13:48:41.825074 17268 module_wrapper.py:139] From C:\\Users\\smadh\\Anaconda3\\envs\\keras-gpu\\lib\\site-packages\\keras\\backend\\tensorflow_backend.py:973: The name tf.assign is deprecated. Please use tf.compat.v1.assign instead.\n",
      "\n"
     ]
    },
    {
     "name": "stdout",
     "output_type": "stream",
     "text": [
      "Train on 400 samples, validate on 98 samples\n",
      "Epoch 1/10\n",
      "400/400 [==============================] - 19s 48ms/step - loss: 1.9575 - val_loss: 0.3562\n",
      "Epoch 2/10\n",
      "400/400 [==============================] - 19s 46ms/step - loss: 0.0553 - val_loss: 0.0491\n",
      "Epoch 3/10\n",
      "400/400 [==============================] - 18s 45ms/step - loss: 0.0213 - val_loss: 0.0382\n",
      "Epoch 4/10\n",
      "400/400 [==============================] - 18s 46ms/step - loss: 0.0106 - val_loss: 0.0396\n",
      "Epoch 5/10\n",
      "400/400 [==============================] - 18s 46ms/step - loss: 0.0063 - val_loss: 0.0375\n",
      "Epoch 6/10\n",
      "400/400 [==============================] - 18s 45ms/step - loss: 0.0041 - val_loss: 0.0341\n",
      "Epoch 7/10\n",
      "400/400 [==============================] - 18s 46ms/step - loss: 0.0030 - val_loss: 0.0324\n",
      "Epoch 8/10\n",
      "400/400 [==============================] - 18s 45ms/step - loss: 0.0022 - val_loss: 0.0321\n",
      "Epoch 9/10\n",
      "400/400 [==============================] - 19s 46ms/step - loss: 0.0018 - val_loss: 0.0306\n",
      "Epoch 10/10\n",
      "400/400 [==============================] - 18s 45ms/step - loss: 0.0015 - val_loss: 0.0310\n"
     ]
    },
    {
     "data": {
      "text/plain": [
       "<keras.callbacks.History at 0x2072ef62dd8>"
      ]
     },
     "execution_count": 20,
     "metadata": {},
     "output_type": "execute_result"
    }
   ],
   "source": [
    "# Fit the model\n",
    "epochs = 10\n",
    "model.fit(x_train, y_train, validation_data=(x_test, y_test), \n",
    "          nb_epoch=epochs,\n",
    "          shuffle=True, batch_size=100, verbose=1)"
   ]
  },
  {
   "cell_type": "code",
   "execution_count": 23,
   "metadata": {},
   "outputs": [],
   "source": [
    "out = model.predict(x_test)"
   ]
  },
  {
   "cell_type": "code",
   "execution_count": 21,
   "metadata": {},
   "outputs": [],
   "source": [
    "train_pred = model.predict(x_train)"
   ]
  },
  {
   "cell_type": "code",
   "execution_count": 24,
   "metadata": {},
   "outputs": [],
   "source": [
    "output = []\n",
    "for i in range(len(out)):\n",
    "    output.append((out[i][0])*(y_test_out[i]))"
   ]
  },
  {
   "cell_type": "code",
   "execution_count": 26,
   "metadata": {},
   "outputs": [],
   "source": [
    "train_output = []\n",
    "for i in range(len(train_pred)):\n",
    "    train_output.append((train_pred[i][0])*(y_train_out[i]))"
   ]
  },
  {
   "cell_type": "code",
   "execution_count": 43,
   "metadata": {},
   "outputs": [
    {
     "data": {
      "text/plain": [
       "40.47888974727627"
      ]
     },
     "execution_count": 43,
     "metadata": {},
     "output_type": "execute_result"
    }
   ],
   "source": [
    "from sklearn.metrics import mean_squared_error\n",
    "math.sqrt(mean_squared_error(y_test_pred,output))"
   ]
  },
  {
   "cell_type": "code",
   "execution_count": 41,
   "metadata": {
    "scrolled": true
   },
   "outputs": [
    {
     "name": "stdout",
     "output_type": "stream",
     "text": [
      "237.91375985847117 205.97000122070312\n",
      "214.92824709198612 208.1699981689453\n",
      "210.09567200094716 207.92730712890625\n",
      "231.0872807926935 208.09359741210938\n",
      "260.23955233106244 208.1999969482422\n",
      "254.25630694859137 210.27000427246094\n",
      "182.81824121546924 208.03419494628906\n",
      "264.3484496122437 217.88999938964844\n",
      "143.98777392965258 217.66000366210938\n",
      "202.31511501086425 202.9499969482422\n",
      "197.75698979959088 195.33999633789062\n",
      "144.67159471145715 195.25\n",
      "185.7331174783485 196.75\n",
      "243.31260413699783 201.57000732421875\n",
      "182.6045383819328 199.3300018310547\n",
      "261.5698731640441 201.3000030517578\n",
      "156.48376017129522 208.02000427246094\n",
      "214.95298353065664 204.52000427246094\n",
      "185.61936396094643 201.2899932861328\n",
      "176.95327936797185 206.1999969482422\n",
      "234.82950699276262 211.9600067138672\n",
      "186.6721755139497 212.6300048828125\n",
      "235.25259367542276 213.3800048828125\n",
      "254.88478168729307 211.6699981689453\n",
      "234.87097156648088 205.75\n",
      "239.29325583252285 206.38999938964844\n",
      "187.21265784738898 204.57000732421875\n",
      "181.7454374620993 205.58999633789062\n",
      "176.23971308907858 208.07000732421875\n",
      "204.53695972025344 207.60000610351562\n",
      "231.89174045593245 205.02999877929688\n",
      "155.5439105853875 208.09320068359375\n",
      "160.57630489430994 212.83999633789062\n",
      "238.95558178297506 213.0500030517578\n",
      "142.0965655793225 216.3800048828125\n",
      "186.2345569787767 213.25999450683594\n",
      "193.789971095076 220.86000061035156\n",
      "193.667629219658 225.50999450683594\n",
      "224.33777956037375 218.80999755859375\n",
      "198.3030729750035 219.89999389648438\n",
      "215.5804801952263 220.2449951171875\n",
      "181.40599876767828 221.9499969482422\n",
      "137.7790727263673 222.5449981689453\n",
      "237.96061566987555 221.80050659179688\n",
      "181.3789534289026 218.9586944580078\n",
      "172.63874982864218 220.3300018310547\n",
      "206.28863691049082 220.0050048828125\n",
      "256.7059554472835 219.5500030517578\n",
      "177.025627858161 220.36000061035156\n",
      "249.8816462339164 223.22999572753906\n",
      "178.90800005218352 227.64999389648438\n",
      "242.50937970915766 219.72000122070312\n",
      "150.6736224049464 219.1300048828125\n",
      "214.96119485356758 225.74000549316406\n",
      "238.9004629175106 228.83999633789062\n",
      "295.5835832198936 225.7899932861328\n",
      "186.72013921073085 225.97000122070312\n",
      "242.82814393175067 230.27000427246094\n",
      "228.5900769079235 234.77999877929688\n",
      "230.91510313281833 237.4499969482422\n",
      "208.59794566207984 236.15780639648438\n",
      "210.7020947740084 233.99000549316406\n",
      "266.80039229606336 234.3800048828125\n",
      "150.17923940319088 236.02000427246094\n",
      "186.81340905768957 240.66000366210938\n",
      "236.20068645950596 241.10000610351562\n",
      "152.97260189056396 242.52000427246094\n",
      "185.91848937667237 243.27999877929688\n",
      "252.47999608516693 245.52000427246094\n",
      "214.57284476418045 248.47999572753906\n",
      "208.19199824387942 243.89329528808594\n",
      "262.67946781520004 242.55999755859375\n",
      "225.4219496578953 248.44000244140625\n",
      "250.99796483208775 253.30999755859375\n",
      "307.2949270168392 256.88848876953125\n",
      "204.25077734264778 257.1202087402344\n",
      "233.12734433398873 256.2699890136719\n",
      "340.8994301795974 259.6600036621094\n",
      "347.49447202629744 258.2099914550781\n",
      "206.1809836741122 260.3299865722656\n",
      "207.13362352158583 262.4599914550781\n",
      "281.74427000511423 263.6499938964844\n",
      "248.01506455896015 263.19000244140625\n",
      "234.4807732755362 264.67999267578125\n",
      "265.16125764899334 265.4800109863281\n",
      "265.50394593484816 266.20111083984375\n",
      "274.5216048717084 264.2250061035156\n",
      "220.4389250349086 262.19000244140625\n",
      "209.55763311238843 261.8699951171875\n",
      "234.63552082599927 265.1400146484375\n",
      "306.38126105230185 266.0\n",
      "294.08047622500453 266.5299987792969\n",
      "212.30511839539759 267.7799987792969\n",
      "196.96823447252973 265.6400146484375\n",
      "251.99073472220334 258.19000244140625\n",
      "218.25310070977866 262.6326904296875\n",
      "345.97785039195514 265.3008117675781\n",
      "253.97066640703997 270.3699951171875\n"
     ]
    }
   ],
   "source": [
    "indices = []\n",
    "for i in range(len(output)):\n",
    "    print(output[i],y_test_pred[i])\n",
    "    indices.append(i)"
   ]
  },
  {
   "cell_type": "code",
   "execution_count": 42,
   "metadata": {},
   "outputs": [
    {
     "data": {
      "text/plain": [
       "[<matplotlib.lines.Line2D at 0x2072ea54160>]"
      ]
     },
     "execution_count": 42,
     "metadata": {},
     "output_type": "execute_result"
    },
    {
     "data": {
      "image/png": "[encoded data removed]",
      "text/plain": [
       "<Figure size 432x288 with 1 Axes>"
      ]
     },
     "metadata": {
      "needs_background": "light"
     },
     "output_type": "display_data"
    }
   ],
   "source": [
    "plt.plot(indices,output)\n",
    "plt.plot(indices,y_test_pred)"
   ]
  },
  {
   "cell_type": "code",
   "execution_count": null,
   "metadata": {},
   "outputs": [],
   "source": []
  }
 ],
 "metadata": {
  "kernelspec": {
   "display_name": "Python 3",
   "language": "python",
   "name": "python3"
  },
  "language_info": {
   "codemirror_mode": {
    "name": "ipython",
    "version": 3
   },
   "file_extension": ".py",
   "mimetype": "text/x-python",
   "name": "python",
   "nbconvert_exporter": "python",
   "pygments_lexer": "ipython3",
   "version": "3.6.8"
  }
 },
 "nbformat": 4,
 "nbformat_minor": 2
}
