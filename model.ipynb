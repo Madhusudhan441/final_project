{
 "cells": [
  {
   "cell_type": "code",
   "execution_count": 2,
   "metadata": {},
   "outputs": [
    {
     "name": "stderr",
     "output_type": "stream",
     "text": [
      "Using TensorFlow backend.\n"
     ]
    }
   ],
   "source": [
    "import numpy as np\n",
    "from keras.models import Sequential  \n",
    "from keras.layers import Dense, Dropout, Activation, Flatten  \n",
    "from keras.layers import Convolution2D, MaxPooling2D  \n",
    "from keras.optimizers import SGD\n",
    "from keras.utils import np_utils\n",
    "from scipy import misc\n",
    "import glob\n",
    "import matplotlib.pyplot as plt\n",
    "from PIL import Image\n",
    "import math\n",
    "from skimage.color import rgb2gray"
   ]
  },
  {
   "cell_type": "code",
   "execution_count": 3,
   "metadata": {},
   "outputs": [
    {
     "name": "stderr",
     "output_type": "stream",
     "text": [
      "C:\\Users\\smadh\\Anaconda3\\envs\\keras1\\lib\\site-packages\\ipykernel_launcher.py:6: DeprecationWarning: `imread` is deprecated!\n",
      "`imread` is deprecated in SciPy 1.0.0, and will be removed in 1.2.0.\n",
      "Use ``imageio.imread`` instead.\n",
      "  \n"
     ]
    },
    {
     "name": "stdout",
     "output_type": "stream",
     "text": [
      "5010\n"
     ]
    }
   ],
   "source": [
    "def get_pixel_values():\n",
    "#     file_name = r''\n",
    "    pixels = []\n",
    "    cnt = 0\n",
    "    for filename in glob.glob('new_images/'+'\\*.png'):\n",
    "        im = misc.imread(filename)\n",
    "        pixels.append(im)\n",
    "        cnt+=1\n",
    "    print(cnt)\n",
    "    return pixels\n",
    "def convert_image():\n",
    "#     file_name = r'\\figures_v2'\n",
    "    for filename in glob.glob('images_2/' + '\\*.png'):\n",
    "        img = Image.open(filename)\n",
    "#         img = rgb2gray(img);\n",
    "        img = img.convert('RGB')\n",
    "        img.save(filename)\n",
    "# convert_image()\n",
    "pixel_values = np.asarray(get_pixel_values())"
   ]
  },
  {
   "cell_type": "code",
   "execution_count": 4,
   "metadata": {},
   "outputs": [
    {
     "data": {
      "text/plain": [
       "(5010, 360, 360, 4)"
      ]
     },
     "execution_count": 4,
     "metadata": {},
     "output_type": "execute_result"
    }
   ],
   "source": [
    "pixel_values.shape"
   ]
  },
  {
   "cell_type": "code",
   "execution_count": 10,
   "metadata": {},
   "outputs": [],
   "source": [
    "import requests\n",
    "import pandas as pd\n",
    "import arrow\n",
    "import datetime\n",
    "from datetime import timezone\n",
    "import os\n",
    "import quandl\n",
    "import numpy as np\n",
    "from mpl_finance import candlestick_ohlc\n",
    "import matplotlib.pyplot as plt\n",
    "from matplotlib.pyplot import figure\n",
    "\n",
    "def get_quote_data(symbol='AAPL', data_range='2y', data_interval='1h'):\n",
    "    res = requests.get('https://query1.finance.yahoo.com/v8/finance/chart/{symbol}?range={data_range}&interval={data_interval}'.format(**locals()))\n",
    "    data = res.json()\n",
    "    body = data['chart']['result'][0]    \n",
    "    dt = datetime.datetime\n",
    "\n",
    "    dt = pd.Series(map(lambda x: arrow.get(x).datetime.replace(tzinfo=None), body['timestamp']), name='Datetime')\n",
    "    df = pd.DataFrame(body['indicators']['quote'][0], index=dt)\n",
    "    dg = pd.DataFrame(body['timestamp'])    \n",
    "    df = df.loc[:, ('open', 'high', 'low', 'close', 'volume')]\n",
    "    df.dropna(inplace=True)     #removing NaN rows\n",
    "    df.columns = ['OPEN', 'HIGH','LOW','CLOSE','VOLUME']    #Renaming columns in pandas\n",
    "\n",
    "    return df"
   ]
  },
  {
   "cell_type": "code",
   "execution_count": 11,
   "metadata": {},
   "outputs": [
    {
     "data": {
      "text/html": [
       "<div>\n",
       "<style scoped>\n",
       "    .dataframe tbody tr th:only-of-type {\n",
       "        vertical-align: middle;\n",
       "    }\n",
       "\n",
       "    .dataframe tbody tr th {\n",
       "        vertical-align: top;\n",
       "    }\n",
       "\n",
       "    .dataframe thead th {\n",
       "        text-align: right;\n",
       "    }\n",
       "</style>\n",
       "<table border=\"1\" class=\"dataframe\">\n",
       "  <thead>\n",
       "    <tr style=\"text-align: right;\">\n",
       "      <th></th>\n",
       "      <th>OPEN</th>\n",
       "      <th>HIGH</th>\n",
       "      <th>LOW</th>\n",
       "      <th>CLOSE</th>\n",
       "      <th>VOLUME</th>\n",
       "      <th>Ticker</th>\n",
       "    </tr>\n",
       "    <tr>\n",
       "      <th>Datetime</th>\n",
       "      <th></th>\n",
       "      <th></th>\n",
       "      <th></th>\n",
       "      <th></th>\n",
       "      <th></th>\n",
       "      <th></th>\n",
       "    </tr>\n",
       "  </thead>\n",
       "  <tbody>\n",
       "    <tr>\n",
       "      <th>2017-12-07 14:30:00</th>\n",
       "      <td>169.000000</td>\n",
       "      <td>170.369995</td>\n",
       "      <td>168.929993</td>\n",
       "      <td>169.610001</td>\n",
       "      <td>6148110.0</td>\n",
       "      <td>AAPL</td>\n",
       "    </tr>\n",
       "    <tr>\n",
       "      <th>2017-12-07 15:30:00</th>\n",
       "      <td>169.649994</td>\n",
       "      <td>170.110001</td>\n",
       "      <td>169.149994</td>\n",
       "      <td>169.399994</td>\n",
       "      <td>3060701.0</td>\n",
       "      <td>AAPL</td>\n",
       "    </tr>\n",
       "    <tr>\n",
       "      <th>2017-12-07 16:30:00</th>\n",
       "      <td>169.360001</td>\n",
       "      <td>169.970001</td>\n",
       "      <td>169.279999</td>\n",
       "      <td>169.729996</td>\n",
       "      <td>2362727.0</td>\n",
       "      <td>AAPL</td>\n",
       "    </tr>\n",
       "    <tr>\n",
       "      <th>2017-12-07 17:30:00</th>\n",
       "      <td>169.729996</td>\n",
       "      <td>170.199997</td>\n",
       "      <td>169.679993</td>\n",
       "      <td>170.169998</td>\n",
       "      <td>2286826.0</td>\n",
       "      <td>AAPL</td>\n",
       "    </tr>\n",
       "    <tr>\n",
       "      <th>2017-12-07 18:30:00</th>\n",
       "      <td>170.179993</td>\n",
       "      <td>170.440002</td>\n",
       "      <td>169.310104</td>\n",
       "      <td>169.460007</td>\n",
       "      <td>3057096.0</td>\n",
       "      <td>AAPL</td>\n",
       "    </tr>\n",
       "  </tbody>\n",
       "</table>\n",
       "</div>"
      ],
      "text/plain": [
       "                           OPEN        HIGH         LOW       CLOSE  \\\n",
       "Datetime                                                              \n",
       "2017-12-07 14:30:00  169.000000  170.369995  168.929993  169.610001   \n",
       "2017-12-07 15:30:00  169.649994  170.110001  169.149994  169.399994   \n",
       "2017-12-07 16:30:00  169.360001  169.970001  169.279999  169.729996   \n",
       "2017-12-07 17:30:00  169.729996  170.199997  169.679993  170.169998   \n",
       "2017-12-07 18:30:00  170.179993  170.440002  169.310104  169.460007   \n",
       "\n",
       "                        VOLUME Ticker  \n",
       "Datetime                               \n",
       "2017-12-07 14:30:00  6148110.0   AAPL  \n",
       "2017-12-07 15:30:00  3060701.0   AAPL  \n",
       "2017-12-07 16:30:00  2362727.0   AAPL  \n",
       "2017-12-07 17:30:00  2286826.0   AAPL  \n",
       "2017-12-07 18:30:00  3057096.0   AAPL  "
      ]
     },
     "execution_count": 11,
     "metadata": {},
     "output_type": "execute_result"
    }
   ],
   "source": [
    "final_df = get_quote_data()\n",
    "final_df['Ticker'] = 'AAPL'\n",
    "list_of_tickers = ['GOOGL','MSFT','AMZN','FB','BABA','JNJ','JPM','BAC','WMT']\n",
    "for ticker in list_of_tickers:\n",
    "    stock_df = get_quote_data(symbol=ticker)\n",
    "    stock_df['Ticker'] = ticker\n",
    "    final_df = pd.concat([final_df,stock_df])\n",
    "final_df.head()"
   ]
  },
  {
   "cell_type": "code",
   "execution_count": 15,
   "metadata": {},
   "outputs": [],
   "source": [
    "count = 0\n",
    "y_10_days_prediction = []\n",
    "pixel_index = 0\n",
    "\n",
    "try:\n",
    "    for index, row in final_df.iterrows():\n",
    "        if((count-1)%7==0):\n",
    "            row1 = final_df.iloc[[count+10]]\n",
    "            y_10_days_prediction.append(np.array(row1[\"OPEN\"])[0])\n",
    "        count+=1\n",
    "except:\n",
    "    pass\n",
    "    "
   ]
  },
  {
   "cell_type": "code",
   "execution_count": 17,
   "metadata": {},
   "outputs": [
    {
     "data": {
      "text/plain": [
       "5007"
      ]
     },
     "execution_count": 17,
     "metadata": {},
     "output_type": "execute_result"
    }
   ],
   "source": [
    "len(y_10_days_prediction)"
   ]
  },
  {
   "cell_type": "code",
   "execution_count": 18,
   "metadata": {},
   "outputs": [
    {
     "name": "stdout",
     "output_type": "stream",
     "text": [
      "5007\n",
      "5007\n"
     ]
    }
   ],
   "source": [
    "pixel_values = pixel_values[0:len(y_10_days_prediction)]\n",
    "print(len(pixel_values))\n",
    "print(len(y_10_days_prediction))"
   ]
  },
  {
   "cell_type": "code",
   "execution_count": 19,
   "metadata": {},
   "outputs": [],
   "source": [
    "x_train = pixel_values[0:4000]\n",
    "y_train = y_10_days_prediction[0:4000]\n",
    "x_test = pixel_values[4000:]\n",
    "y_test = y_10_days_prediction[4000:]\n",
    "#    y_true = y_test\n",
    "#    y_train = np_utils.to_categorical(y_train, 2)\n",
    "#    y_test = np_utils.to_categorical(y_test, 2)\n",
    "x_train = x_train.astype('float32')\n",
    "x_test = x_test.astype('float32')\n",
    "x_train /= 255.0\n",
    "x_test /= 255.0"
   ]
  },
  {
   "cell_type": "code",
   "execution_count": 22,
   "metadata": {},
   "outputs": [],
   "source": [
    "def create_model():\n",
    "    model = Sequential()\n",
    "\n",
    "    model.add(Convolution2D(32, 3, 3,\n",
    "                            border_mode='valid', \n",
    "                            input_shape=(360, 360, 4)))  \n",
    "    model.add(Activation('relu'))  \n",
    "    model.add(Convolution2D(32, 3, 3))  \n",
    "    model.add(Activation('relu'))  \n",
    "    model.add(MaxPooling2D(pool_size=(2, 2)))  \n",
    "    model.add(Dropout(0.25))  \n",
    "      \n",
    "    model.add(Convolution2D(64, 3, 3, \n",
    "                            border_mode='valid'))  \n",
    "    model.add(Activation('relu'))  \n",
    "    model.add(Convolution2D(64, 3, 3))  \n",
    "    model.add(Activation('relu'))  \n",
    "    model.add(MaxPooling2D(pool_size=(2, 2)))  \n",
    "    model.add(Dropout(0.25))  \n",
    "      \n",
    "    model.add(Flatten())  \n",
    "    model.add(Dense(256))  \n",
    "    model.add(Activation('relu'))  \n",
    "    model.add(Dropout(0.5))\n",
    "\n",
    "    model.add(Dense(2))  \n",
    "    model.add(Activation('softmax'))  \n",
    "\n",
    "    return model\n",
    "def compile_model(model):\n",
    "    lrate = 0.01\n",
    "    sgd = SGD(lr=lrate, momentum=0.9, decay=1e-6, nesterov=True)\n",
    "    model.compile(loss='sparse_categorical_crossentropy', optimizer=sgd)\n",
    "    return model"
   ]
  },
  {
   "cell_type": "code",
   "execution_count": 23,
   "metadata": {},
   "outputs": [
    {
     "name": "stderr",
     "output_type": "stream",
     "text": [
      "C:\\Users\\smadh\\Anaconda3\\envs\\keras1\\lib\\site-packages\\ipykernel_launcher.py:6: UserWarning: Update your `Conv2D` call to the Keras 2 API: `Conv2D(32, (3, 3), input_shape=(360, 360,..., padding=\"valid\")`\n",
      "  \n",
      "C:\\Users\\smadh\\Anaconda3\\envs\\keras1\\lib\\site-packages\\ipykernel_launcher.py:8: UserWarning: Update your `Conv2D` call to the Keras 2 API: `Conv2D(32, (3, 3))`\n",
      "  \n",
      "C:\\Users\\smadh\\Anaconda3\\envs\\keras1\\lib\\site-packages\\ipykernel_launcher.py:14: UserWarning: Update your `Conv2D` call to the Keras 2 API: `Conv2D(64, (3, 3), padding=\"valid\")`\n",
      "  \n",
      "C:\\Users\\smadh\\Anaconda3\\envs\\keras1\\lib\\site-packages\\ipykernel_launcher.py:16: UserWarning: Update your `Conv2D` call to the Keras 2 API: `Conv2D(64, (3, 3))`\n",
      "  app.launch_new_instance()\n"
     ]
    }
   ],
   "source": [
    "model = create_model()\n",
    "model = compile_model(model)"
   ]
  },
  {
   "cell_type": "code",
   "execution_count": null,
   "metadata": {},
   "outputs": [],
   "source": [
    "def r_squared(y_true, y_hat):\n",
    "    ssr = 0\n",
    "    sst = 0\n",
    "    e = np.subtract(y_true, y_hat)\n",
    "    y_mean = np.mean(y_true)\n",
    "    for item in e:\n",
    "        ssr += item**2\n",
    "    for item in y_true:\n",
    "        sst += (item - y_mean)**2\n",
    "    r2 = 1 - ssr / sst\n",
    "    return r2"
   ]
  },
  {
   "cell_type": "code",
   "execution_count": 1,
   "metadata": {},
   "outputs": [
    {
     "ename": "NameError",
     "evalue": "name 'model' is not defined",
     "output_type": "error",
     "traceback": [
      "\u001b[1;31m---------------------------------------------------------------------------\u001b[0m",
      "\u001b[1;31mNameError\u001b[0m                                 Traceback (most recent call last)",
      "\u001b[1;32m<ipython-input-1-61ea8cbc2d80>\u001b[0m in \u001b[0;36m<module>\u001b[1;34m\u001b[0m\n\u001b[0;32m      1\u001b[0m \u001b[1;31m# Fit the model\u001b[0m\u001b[1;33m\u001b[0m\u001b[1;33m\u001b[0m\u001b[0m\n\u001b[0;32m      2\u001b[0m \u001b[0mepochs\u001b[0m \u001b[1;33m=\u001b[0m \u001b[1;36m10\u001b[0m\u001b[1;33m\u001b[0m\u001b[0m\n\u001b[1;32m----> 3\u001b[1;33m model.fit(x_train, y_train, validation_data=(x_test, y_test), \n\u001b[0m\u001b[0;32m      4\u001b[0m           \u001b[0mnb_epoch\u001b[0m\u001b[1;33m=\u001b[0m\u001b[0mepochs\u001b[0m\u001b[1;33m,\u001b[0m\u001b[1;33m\u001b[0m\u001b[0m\n\u001b[0;32m      5\u001b[0m           shuffle=True, batch_size=100, verbose=1)\n",
      "\u001b[1;31mNameError\u001b[0m: name 'model' is not defined"
     ]
    }
   ],
   "source": [
    "# Fit the model\n",
    "epochs = 10\n",
    "model.fit(x_train, y_train, validation_data=(x_test, y_test), \n",
    "          nb_epoch=epochs,\n",
    "          shuffle=True, batch_size=100, verbose=1)"
   ]
  },
  {
   "cell_type": "code",
   "execution_count": null,
   "metadata": {},
   "outputs": [],
   "source": [
    "#    scores = model.evaluate(x_test, y_test, verbose=0)\n",
    "#    print('Accuracy: %.2f%%' % (scores[1] * 100))\n",
    "classes = model.predict_classes(x_test, verbose=0)"
   ]
  },
  {
   "cell_type": "code",
   "execution_count": null,
   "metadata": {},
   "outputs": [],
   "source": [
    "classes = list(classes)\n",
    "y_test = list(y_test)\n",
    "r2 = r_squared(y_test, classes)\n",
    "print(r2)"
   ]
  }
 ],
 "metadata": {
  "kernelspec": {
   "display_name": "Python 3",
   "language": "python",
   "name": "python3"
  },
  "language_info": {
   "codemirror_mode": {
    "name": "ipython",
    "version": 3
   },
   "file_extension": ".py",
   "mimetype": "text/x-python",
   "name": "python",
   "nbconvert_exporter": "python",
   "pygments_lexer": "ipython3",
   "version": "3.6.6"
  }
 },
 "nbformat": 4,
 "nbformat_minor": 2
}
